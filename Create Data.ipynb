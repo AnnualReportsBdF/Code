{
 "cells": [
  {
   "cell_type": "markdown",
   "metadata": {},
   "source": [
    "# Imports"
   ]
  },
  {
   "cell_type": "code",
   "execution_count": 134,
   "metadata": {
    "collapsed": false
   },
   "outputs": [],
   "source": [
    "import pandas as pd\n",
    "\n",
    "import sys\n",
    "import os\n",
    "import io\n",
    "\n",
    "import multiprocessing\n",
    "import time\n",
    "\n",
    "#Convert pdf to text\n",
    "import textract\n",
    "import PyPDF2\n",
    "from PIL import Image\n",
    "from pypdfocr.pypdfocr_gs import PyGs\n",
    "import pytesseract\n",
    "pytesseract.pytesseract.tesseract_cmd = 'Lib/site-packages/pytesseract/tesseract/tesseract'\n",
    "import pdfminer\n",
    "from pdfminer.pdfinterp import PDFResourceManager, PDFPageInterpreter\n",
    "from pdfminer.converter import TextConverter\n",
    "from pdfminer.layout import LAParams\n",
    "from pdfminer.pdfpage import PDFPage\n",
    "\n",
    "import langdetect\n",
    "import csv\n",
    "\n",
    "import warnings\n",
    "warnings.filterwarnings(\"ignore\")"
   ]
  },
  {
   "cell_type": "markdown",
   "metadata": {},
   "source": [
    "# Functions"
   ]
  },
  {
   "cell_type": "code",
   "execution_count": 135,
   "metadata": {
    "collapsed": true
   },
   "outputs": [],
   "source": [
    "def LanguageName(language):\n",
    "    if (language == 'fr'):\n",
    "        language = 'fra'\n",
    "    elif (language == 'es'):\n",
    "        language = 'spa'\n",
    "    elif (language == 'it'):\n",
    "        language = 'ita'\n",
    "    elif (language == 'de'):\n",
    "        language = 'deu'\n",
    "    elif (language == 'en'):\n",
    "        language = 'eng'\n",
    "    #https://fr.wikipedia.org/wiki/Liste_des_codes_ISO_639-1\n",
    "    return language"
   ]
  },
  {
   "cell_type": "code",
   "execution_count": 136,
   "metadata": {
    "collapsed": true
   },
   "outputs": [],
   "source": [
    "def RetrieveInfosCompany(path):\n",
    "    fileName = path[path.rfind('/')+1:-4]\n",
    "    words = fileName.split(' ')\n",
    "    language = words[-1]\n",
    "    year = words[-2]\n",
    "    country = words[0]\n",
    "    companyName = ''\n",
    "    for i in range(len(words)-3):\n",
    "        i += 1\n",
    "        companyName += words[i] + ' '\n",
    "    companyName = companyName[:-1]\n",
    "    \n",
    "    return country, companyName, year, language"
   ]
  },
  {
   "cell_type": "code",
   "execution_count": 137,
   "metadata": {
    "collapsed": true
   },
   "outputs": [],
   "source": [
    "def CountPagesNumber(path):\n",
    "    pdfReader = PyPDF2.PdfFileReader(path)\n",
    "    return pdfReader.numPages"
   ]
  },
  {
   "cell_type": "code",
   "execution_count": 1,
   "metadata": {
    "collapsed": false
   },
   "outputs": [],
   "source": [
    "def ConvertPdftoText(path):\n",
    "    try:\n",
    "        text = unicode(textract.process(path), 'utf-8')\n",
    "        return text\n",
    "    except ValueError:\n",
    "        text = \"\"\n",
    "        pagesNumber = CountPagesNumber(path)\n",
    "        pdf = PyPDF2.PdfFileReader(path)\n",
    "        if pdf.isEncrypted:\n",
    "            pdf.decrypt('')\n",
    "        for ith in range(pagesNumber):\n",
    "            page = pdf.getPage(ith)\n",
    "            text += page.extractText()\n",
    "        text = unicode(text, 'utf-8').encode('utf-8')\n",
    "        return text"
   ]
  },
  {
   "cell_type": "code",
   "execution_count": 139,
   "metadata": {
    "collapsed": false
   },
   "outputs": [],
   "source": [
    "def ConvertScanToText(path, language):\n",
    "    text = ''\n",
    "    pagesNumber = CountPagesNumber(path)\n",
    "\n",
    "    PyGs({}).make_img_from_pdf(path)\n",
    "\n",
    "    for ith in range(pagesNumber):\n",
    "        imagePath = path[:-4] + '_' + str(ith + 1) + '.JPG'\n",
    "        image = Image.open(imagePath, mode='r')\n",
    "        text += pytesseract.image_to_string(image, lang = language)\n",
    "        os.remove(imagePath)\n",
    "\n",
    "    return unicode(text.encode('utf-8'), 'utf-8')"
   ]
  },
  {
   "cell_type": "code",
   "execution_count": 140,
   "metadata": {
    "collapsed": true
   },
   "outputs": [],
   "source": [
    "def ConvertFileToText(path, language):\n",
    "    text = ConvertPdftoText(path)\n",
    "    scannedFile = 0\n",
    "    pagesNumber = CountPagesNumber(path)\n",
    "    \n",
    "    if text in ['\\x0c' * pagesNumber, '']:\n",
    "        scannedFile = 1\n",
    "        text = ConvertScanToText(path, language)\n",
    "    \n",
    "    languageEstimated = str(langdetect.detect_langs(text))\n",
    "    languageEstimated = str(LanguageName(languageEstimated[1:3]))\n",
    "    \n",
    "    if ((languageEstimated != language) & (scannedFile == 0)):\n",
    "        prm = PDFResourceManager()\n",
    "        bio = io.BytesIO()\n",
    "        device = TextConverter(prm, bio, codec = 'utf-8', laparams = LAParams())\n",
    "        pdf = open(path, 'rb')\n",
    "        interpreter = PDFPageInterpreter(prm, device)\n",
    "        \n",
    "        for page in PDFPage.get_pages(pdf, set(), maxpages = 0, password = \"\", caching = True, check_extractable = True):\n",
    "            interpreter.process_page(page)\n",
    "\n",
    "        text = bio.getvalues()\n",
    "        pdf.close()\n",
    "        device.close()\n",
    "        bio.close()\n",
    "        \n",
    "        languageEstimated = str(langdetect.detect_langs(text))\n",
    "        languageEstimated = str(LanguageName(languageEstimated[1:3]))\n",
    "        \n",
    "    return text, scannedFile, languageEstimated"
   ]
  },
  {
   "cell_type": "code",
   "execution_count": 141,
   "metadata": {
    "collapsed": true
   },
   "outputs": [],
   "source": [
    "def CreateDataWithoutDuplicates(directoryPath):\n",
    "    count = 0\n",
    "    ithFile = 0\n",
    "    for file in os.listdir(directoryPath):\n",
    "        if (file[-4:] == '.pdf'):\n",
    "            count += 1\n",
    "    sys.stdout.write(\"[\" + count * \" \" + \"] 0%\")\n",
    "    \n",
    "    dataDic = []\n",
    "    \n",
    "    for file in os.listdir(directoryPath):\n",
    "        if (file[-4:] == '.pdf'):\n",
    "            ithFile += 1\n",
    "            path = directoryPath + '/' + file\n",
    "            pagesNumber = CountPagesNumber(path)\n",
    "            infosFile = RetrieveInfosCompany(path)\n",
    "            infosText = ConvertFileToText(path, infosFile[3])\n",
    "        \n",
    "            dataDic.append({'Country': infosFile[0], 'Company': infosFile[1], 'Year': infosFile[2], \n",
    "                        'Text': infosText[0].encode('utf-8'), \n",
    "                        'Scan': infosText[1],'Pages Number': pagesNumber, 'Language Expected': infosFile[3], \n",
    "                        'Language Estimated': infosText[2]})\n",
    "        \n",
    "            percentage = int(ithFile * 100 / count)\n",
    "            spacesNumber = count - ithFile\n",
    "            sys.stdout.write(\"\\r\")\n",
    "            sys.stdout.write(\"[\" + ithFile * \"#\" + spacesNumber * \" \" + \"] \" + str(percentage) + \"%\")\n",
    "        \n",
    "    df = pd.DataFrame(dataDic)\n",
    "    \n",
    "    df.to_csv(directoryPath[:directoryPath.rfind('/')+1] + str(directoryPath[directoryPath.rfind('/')+1:]) + '-data.csv')\n",
    "    print('\\nCreate Data Without Duplicates: OK')"
   ]
  },
  {
   "cell_type": "code",
   "execution_count": 142,
   "metadata": {
    "collapsed": false
   },
   "outputs": [],
   "source": [
    "def CreateDataWithDuplicates(directoryPath):  \n",
    "    pdfTypes = ['ARS-None', 'FullYear', 'ARS', 'AR S']\n",
    "    shortNames = []\n",
    "    pdfsToMerge = []\n",
    "    dataDic = []\n",
    "    \n",
    "    for duplicate in os.listdir(directoryPath):\n",
    "         if (duplicate[-4:] == '.pdf'):\n",
    "            lastWord = ((duplicate[:-4]).split())[-1]\n",
    "            if (lastWord.isdigit()):\n",
    "                shortNames.append(duplicate[:duplicate.rfind(lastWord)-1])\n",
    "            else :\n",
    "                shortNames.append(duplicate[:-4])\n",
    "                \n",
    "    count = len(set(shortNames))\n",
    "    sys.stdout.write(\"[\" + count * \" \" + \"] 0%\")\n",
    "        \n",
    "    dictShortNames = {x:shortNames.count(x) for x in shortNames}\n",
    "    \n",
    "    for i in range(len(dictShortNames)):\n",
    "        shortName = dictShortNames.keys()[i]\n",
    "        numberOfDuplicates = dictShortNames.values()[i]\n",
    "        jthFile = 0\n",
    "        text = ''\n",
    "        isScans = []\n",
    "        isScan = \"\"\n",
    "        estimatedLanguages = []\n",
    "        estimatedLanguage = \"\"\n",
    "        pagesTotalNumber = 0\n",
    "        while (jthFile < numberOfDuplicates):                 \n",
    "            if (jthFile == 0):\n",
    "                path = directoryPath + '/' + shortName + '.pdf'\n",
    "            else:\n",
    "                path = directoryPath + '/' + shortName + ' ' + str(jthFile+1) + '.pdf'\n",
    "            \n",
    "            if (os.path.isfile(path) == False):\n",
    "                numberOfDuplicates += 1\n",
    "            else:\n",
    "                for type in pdfTypes:\n",
    "                    if (shortName.rfind(type) != -1):\n",
    "                        infosFile = RetrieveInfosCompany(directoryPath + '/' + shortName[:shortName.rfind(type)-1] + '.pdf')\n",
    "            \n",
    "                pagesNumber = CountPagesNumber(path)\n",
    "                infosText = ConvertFileToText(path, infosFile[3])\n",
    "                text += infosText[0] + ' '\n",
    "                isScans.append(infosText[1])\n",
    "                pagesTotalNumber += pagesNumber\n",
    "                estimatedLanguages.append(infosText[2])\n",
    "                \n",
    "            jthFile += 1\n",
    "        \n",
    "        for language in set(estimatedLanguages):\n",
    "            estimatedLanguage += language + \" \"\n",
    "        for scan in set(isScans):\n",
    "            isScan += str(scan) + \" \"\n",
    "        \n",
    "        dataDic.append({'Country': infosFile[0], 'Company': infosFile[1], 'Year': infosFile[2], \n",
    "                        'Text': text.encode('utf-8'), \n",
    "                        'Scan': isScan[:-1],'Pages Number': pagesTotalNumber, 'Language Expected': infosFile[3], \n",
    "                        'Language Estimated': estimatedLanguage[:-1]})\n",
    "        \n",
    "        percentage = int((i+1) * 100 / count)\n",
    "        spacesNumber = count - (i+1)\n",
    "        sys.stdout.write(\"\\r\")\n",
    "        sys.stdout.write(\"[\" + (i+1) * \"#\" + spacesNumber * \" \" + \"] \" + str(percentage) + \"%\")\n",
    "            \n",
    "    df = pd.DataFrame(dataDic)\n",
    "    \n",
    "    df.to_csv(directoryPath[:directoryPath.rfind('/')+1] + str(directoryPath[directoryPath.rfind('/')+1:]) + '-data.csv')\n",
    "    print('\\nCreate Data With Duplicates: OK')"
   ]
  },
  {
   "cell_type": "code",
   "execution_count": 149,
   "metadata": {
    "collapsed": true
   },
   "outputs": [],
   "source": [
    "def CreateData(directoryPath, isMultiprocessing):\n",
    "    \n",
    "    if (isMultiprocessing == 0):\n",
    "        start = time.time()\n",
    "        for folder in os.listdir(directoryPath):\n",
    "            if (folder[-4:] not in ['.csv', '.JPG', '.pdf']):\n",
    "                print('\\n' + str(folder))\n",
    "                if (folder != 'Duplicates'):\n",
    "                    CreateDataWithoutDuplicates(directoryPath + '/' + folder)\n",
    "                else:\n",
    "                    CreateDataWithDuplicates(directoryPath + '/Duplicates')\n",
    "        print('\\nSpent time: ' + str(int(time.time()-start)) + ' seconds')\n",
    "    \n",
    "    else:\n",
    "        start = time.time()\n",
    "        p1 = multiprocessing.Process(target=CreateDataWithoutDuplicates, args=[directoryPath + '/Folder1'] )\n",
    "        p2 = multiprocessing.Process(target=CreateDataWithoutDuplicates, args=[directoryPath + '/Folder2'])\n",
    "        p3 = multiprocessing.Process(target=CreateDataWithoutDuplicates, args=[directoryPath + '/Folder3'])\n",
    "        p4 = multiprocessing.Process(target=CreateDataWithoutDuplicates, args=[directoryPath + '/Folder4'])\n",
    "        p5 = multiprocessing.Process(target=CreateDataWithoutDuplicates, args=[directoryPath + '/Folder5'])\n",
    "        p6 = multiprocessing.Process(target=CreateDataWithDuplicates, args=[directoryPath + '/Duplicates'])\n",
    "        p1.start()\n",
    "        p2.start()\n",
    "        p3.start()\n",
    "        p4.start()\n",
    "        p5.start()\n",
    "        p6.start()\n",
    "        p1.join()\n",
    "        p2.join()\n",
    "        p3.join()\n",
    "        p4.join()\n",
    "        p5.join()\n",
    "        p6.join()\n",
    "        print('\\nSpent time: ' + str(int(time.time()-start)) + ' seconds')"
   ]
  },
  {
   "cell_type": "markdown",
   "metadata": {},
   "source": [
    "# Main"
   ]
  },
  {
   "cell_type": "code",
   "execution_count": 150,
   "metadata": {
    "collapsed": false
   },
   "outputs": [
    {
     "name": "stdout",
     "output_type": "stream",
     "text": [
      "\n",
      "Duplicates\n",
      "[############] 100%\n",
      "Create Data With Duplicates: OK\n",
      "\n",
      "Folder1\n",
      "[##########] 100%\n",
      "Create Data Without Duplicates: OK\n",
      "\n",
      "Folder2\n",
      "[##########] 100%\n",
      "Create Data Without Duplicates: OK\n",
      "\n",
      "Spent time: 78 seconds\n"
     ]
    }
   ],
   "source": [
    "CreateData(directoryPath = 'Annual reports', isMultiprocessing = 0)"
   ]
  },
  {
   "cell_type": "code",
   "execution_count": null,
   "metadata": {
    "collapsed": true
   },
   "outputs": [],
   "source": []
  }
 ],
 "metadata": {
  "anaconda-cloud": {},
  "kernelspec": {
   "display_name": "Python [conda env:py27]",
   "language": "python",
   "name": "conda-env-py27-py"
  },
  "language_info": {
   "codemirror_mode": {
    "name": "ipython",
    "version": 2
   },
   "file_extension": ".py",
   "mimetype": "text/x-python",
   "name": "python",
   "nbconvert_exporter": "python",
   "pygments_lexer": "ipython2",
   "version": "2.7.14"
  }
 },
 "nbformat": 4,
 "nbformat_minor": 1
}
