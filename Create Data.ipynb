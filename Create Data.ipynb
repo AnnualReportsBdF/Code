{
 "cells": [
  {
   "cell_type": "markdown",
   "metadata": {},
   "source": [
    "# Imports"
   ]
  },
  {
   "cell_type": "code",
   "execution_count": 1,
   "metadata": {
    "collapsed": false
   },
   "outputs": [],
   "source": [
    "import pandas as pd\n",
    "\n",
    "import sys\n",
    "import os\n",
    "\n",
    "#Convert pdf to text\n",
    "import textract\n",
    "import PyPDF2\n",
    "from PIL import Image\n",
    "from pypdfocr.pypdfocr_gs import PyGs\n",
    "import pytesseract\n",
    "pytesseract.pytesseract.tesseract_cmd = 'Lib/site-packages/pytesseract/tesseract/tesseract'\n",
    "\n",
    "import langdetect\n",
    "import csv\n",
    "\n",
    "import warnings\n",
    "warnings.filterwarnings(\"ignore\")"
   ]
  },
  {
   "cell_type": "markdown",
   "metadata": {},
   "source": [
    "# Functions"
   ]
  },
  {
   "cell_type": "code",
   "execution_count": 2,
   "metadata": {
    "collapsed": true
   },
   "outputs": [],
   "source": [
    "def RetrieveInfosCompany(path):\n",
    "    fileName = path[path.find('/')+1:-4]\n",
    "    words = fileName.split(' ')\n",
    "    language = words[-1]\n",
    "    year = words[-2]\n",
    "    country = words[0]\n",
    "    companyName = ''\n",
    "    for i in range(len(words)-3):\n",
    "        i += 1\n",
    "        companyName += words[i] + ' '\n",
    "    companyName = companyName[:-1]\n",
    "    \n",
    "    return country, companyName, year, language"
   ]
  },
  {
   "cell_type": "code",
   "execution_count": 3,
   "metadata": {
    "collapsed": true
   },
   "outputs": [],
   "source": [
    "def CountPagesNumber(path):\n",
    "    pdfReader = PyPDF2.PdfFileReader(path)\n",
    "    return pdfReader.numPages"
   ]
  },
  {
   "cell_type": "code",
   "execution_count": 117,
   "metadata": {
    "collapsed": false
   },
   "outputs": [],
   "source": [
    "def ConvertPdftoText(path):\n",
    "    try:\n",
    "        text = unicode(textract.process(path), 'utf-8')\n",
    "        return text\n",
    "    except ValueError:\n",
    "        text = \"\"\n",
    "        pagesNumber = CountPagesNumber(path)\n",
    "        pdf = PyPDF2.PdfFileReader(path)\n",
    "        if pdf.isEncrypted:\n",
    "            pdf.decrypt('')\n",
    "        for ith in range(pagesNumber):\n",
    "            page = pdf.getPage(ith)\n",
    "            text += page.extractText()\n",
    "        text = unicode(text.encode('utf-8'), 'utf-8')\n",
    "        return text"
   ]
  },
  {
   "cell_type": "code",
   "execution_count": 118,
   "metadata": {
    "collapsed": false
   },
   "outputs": [],
   "source": [
    "def ConvertScanToText(path, language):\n",
    "    text = ''\n",
    "    pagesNumber = CountPagesNumber(path)\n",
    "\n",
    "    PyGs({}).make_img_from_pdf(path)\n",
    "\n",
    "    for ith in range(pagesNumber):\n",
    "        imagePath = path[:-4] + '_' + str(ith + 1) + '.JPG'\n",
    "        image = Image.open(imagePath, mode='r')\n",
    "        text += pytesseract.image_to_string(image, lang = language)\n",
    "        os.remove(imagePath)\n",
    "\n",
    "    return unicode(text.encode('utf-8'), 'utf-8')"
   ]
  },
  {
   "cell_type": "code",
   "execution_count": 119,
   "metadata": {
    "collapsed": true
   },
   "outputs": [],
   "source": [
    "def ConvertFileToText(path, language):\n",
    "    text = ConvertPdftoText(path)\n",
    "    scannedFile = 0\n",
    "    pagesNumber = CountPagesNumber(path)\n",
    "    \n",
    "    if text in ['\\x0c' * pagesNumber, '']:\n",
    "        scannedFile = 1\n",
    "        text = ConvertScanToText(path, language)\n",
    "    \n",
    "    languageEstimated = str(langdetect.detect_langs(text))\n",
    "    \n",
    "    return text, scannedFile, languageEstimated"
   ]
  },
  {
   "cell_type": "code",
   "execution_count": 124,
   "metadata": {
    "collapsed": true
   },
   "outputs": [],
   "source": [
    "def CreateData(directoryPath):\n",
    "    sys.stdout.write(\"[\" + len(os.listdir(directoryPath)) * \" \" + \"] 0%\")\n",
    "    dataDic = []\n",
    "    ithFile = 0\n",
    "    for file in os.listdir(directoryPath):\n",
    "        ithFile += 1\n",
    "        path = directoryPath + '/' + file\n",
    "        pagesNumber = CountPagesNumber(path)\n",
    "        infosFile = RetrieveInfosCompany(path)\n",
    "        infosText = ConvertFileToText(path, infosFile[3])\n",
    "        \n",
    "        dataDic.append({'Country': infosFile[0], 'Company': infosFile[1], 'Year': infosFile[2], \n",
    "                        'Text': infosText[0].encode('utf-8'), \n",
    "                        'Scan': infosText[1],'Pages Number': pagesNumber, 'Language Expected': infosFile[3], \n",
    "                        'Language Estimated': infosText[2]})\n",
    "        \n",
    "        percentage = int(ithFile * 100 / len(os.listdir(directoryPath)))\n",
    "        spacesNumber = len(os.listdir(directoryPath)) - ithFile\n",
    "        sys.stdout.write(\"\\r\")\n",
    "        sys.stdout.write(\"[\" + ithFile * \"#\" + spacesNumber * \" \" + \"] \" + str(percentage) + \"%\")\n",
    "        \n",
    "    df = pd.DataFrame(dataDic)\n",
    "    \n",
    "    df.to_csv('data.csv')\n",
    "    print('\\n CSV created')"
   ]
  },
  {
   "cell_type": "markdown",
   "metadata": {},
   "source": [
    "# Main"
   ]
  },
  {
   "cell_type": "code",
   "execution_count": 125,
   "metadata": {
    "collapsed": false
   },
   "outputs": [
    {
     "name": "stdout",
     "output_type": "stream",
     "text": [
      "[##############] 100%\n",
      " CSV created\n"
     ]
    }
   ],
   "source": [
    "CreateData('Annual reports')"
   ]
  },
  {
   "cell_type": "code",
   "execution_count": null,
   "metadata": {
    "collapsed": true
   },
   "outputs": [],
   "source": []
  },
  {
   "cell_type": "code",
   "execution_count": null,
   "metadata": {
    "collapsed": true
   },
   "outputs": [],
   "source": []
  }
 ],
 "metadata": {
  "anaconda-cloud": {},
  "kernelspec": {
   "display_name": "Python [conda env:py27]",
   "language": "python",
   "name": "conda-env-py27-py"
  },
  "language_info": {
   "codemirror_mode": {
    "name": "ipython",
    "version": 2
   },
   "file_extension": ".py",
   "mimetype": "text/x-python",
   "name": "python",
   "nbconvert_exporter": "python",
   "pygments_lexer": "ipython2",
   "version": "2.7.14"
  }
 },
 "nbformat": 4,
 "nbformat_minor": 1
}
