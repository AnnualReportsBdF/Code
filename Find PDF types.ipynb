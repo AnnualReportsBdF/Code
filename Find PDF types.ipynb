{
 "cells": [
  {
   "cell_type": "code",
   "execution_count": 2,
   "metadata": {
    "collapsed": true
   },
   "outputs": [],
   "source": [
    "import os"
   ]
  },
  {
   "cell_type": "code",
   "execution_count": 5,
   "metadata": {
    "collapsed": true
   },
   "outputs": [],
   "source": [
    "def FindPdfTypes(directoryPath):\n",
    "    pdfTypes = []\n",
    "    for year in os.listdir(directoryPath):\n",
    "        for file in os.listdir(directoryPath + '/' + year):\n",
    "            pdfType = \"\"\n",
    "            if file.find(' SE ') != -1:\n",
    "                name = file[file.find(' SE ')+4:]\n",
    "            elif file.find(' SA ') != -1:\n",
    "                name = file[file.find(' SA ')+4:]\n",
    "            elif file.find(' SCA ') != -1:\n",
    "                name = file[file.find(' SCA ')+5:]\n",
    "            elif file.find(' SAS ') != -1:\n",
    "                name = file[file.find(' SAS ')+5:]\n",
    "            else:\n",
    "                print(file)\n",
    "            words = name.split(' ')\n",
    "            for word in words[1:-1]:\n",
    "                pdfType += word + \" \"\n",
    "            \n",
    "            pdfTypes.append(pdfType[:-1])\n",
    "    \n",
    "    return set(pdfTypes)"
   ]
  },
  {
   "cell_type": "code",
   "execution_count": 6,
   "metadata": {
    "collapsed": false
   },
   "outputs": [
    {
     "data": {
      "text/plain": [
       "{'424B',\n",
       " 'AR S',\n",
       " 'ARS',\n",
       " 'ARS-None',\n",
       " 'Board Changes Meetings',\n",
       " 'Eurobond',\n",
       " 'Eurobond - Pricing Supplements',\n",
       " 'Final Results',\n",
       " 'Final Terms',\n",
       " 'Full Prospectus',\n",
       " 'FullYear',\n",
       " 'IPO',\n",
       " 'Information Memorandum',\n",
       " 'Interim Results',\n",
       " 'InterimH1',\n",
       " 'InterimQ1',\n",
       " 'MAA - Press',\n",
       " 'Offering Supplement',\n",
       " 'Placing and Offer',\n",
       " 'Preliminary Results',\n",
       " 'Pricing Supplement',\n",
       " 'Warrants'}"
      ]
     },
     "execution_count": 6,
     "metadata": {},
     "output_type": "execute_result"
    }
   ],
   "source": [
    "FindPdfTypes('France base/en')"
   ]
  },
  {
   "cell_type": "code",
   "execution_count": null,
   "metadata": {
    "collapsed": true
   },
   "outputs": [],
   "source": []
  },
  {
   "cell_type": "code",
   "execution_count": null,
   "metadata": {
    "collapsed": true
   },
   "outputs": [],
   "source": []
  }
 ],
 "metadata": {
  "kernelspec": {
   "display_name": "Python [conda env:py27]",
   "language": "python",
   "name": "conda-env-py27-py"
  },
  "language_info": {
   "codemirror_mode": {
    "name": "ipython",
    "version": 2
   },
   "file_extension": ".py",
   "mimetype": "text/x-python",
   "name": "python",
   "nbconvert_exporter": "python",
   "pygments_lexer": "ipython2",
   "version": "2.7.14"
  }
 },
 "nbformat": 4,
 "nbformat_minor": 1
}
