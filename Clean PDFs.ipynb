{
 "cells": [
  {
   "cell_type": "markdown",
   "metadata": {},
   "source": [
    "# Imports"
   ]
  },
  {
   "cell_type": "code",
   "execution_count": 1,
   "metadata": {
    "collapsed": true
   },
   "outputs": [],
   "source": [
    "import sys\n",
    "import re\n",
    "import os\n",
    "import shutil\n",
    "import random\n",
    "import langdetect\n",
    "import PyPDF2\n",
    "import textract\n",
    "from PIL import Image\n",
    "import pdf2image\n",
    "from pypdfocr.pypdfocr_gs import PyGs\n",
    "import pytesseract\n",
    "pytesseract.pytesseract.tesseract_cmd = 'Lib/site-packages/pytesseract/tesseract/tesseract'\n",
    "\n",
    "import warnings\n",
    "warnings.filterwarnings(\"ignore\")"
   ]
  },
  {
   "cell_type": "markdown",
   "metadata": {},
   "source": [
    "# Functions"
   ]
  },
  {
   "cell_type": "code",
   "execution_count": 2,
   "metadata": {
    "collapsed": true
   },
   "outputs": [],
   "source": [
    "def CountPagesNumber(filePath):\n",
    "    pdfReader = PyPDF2.PdfFileReader(filePath)\n",
    "    return pdfReader.numPages"
   ]
  },
  {
   "cell_type": "code",
   "execution_count": 3,
   "metadata": {
    "collapsed": true
   },
   "outputs": [],
   "source": [
    "def ConvertPdftoText(filePath):\n",
    "    try:\n",
    "        text = unicode(textract.process(filePath), 'utf-8')\n",
    "        return text\n",
    "    except ValueError:\n",
    "        text = \"\"\n",
    "        pagesNumber = CountPagesNumber(filePath)\n",
    "        pdf = PyPDF2.PdfFileReader(filePath)\n",
    "        if pdf.isEncrypted:\n",
    "            pdf.decrypt('')\n",
    "        for ith in range(pagesNumber):\n",
    "            page = pdf.getPage(ith)\n",
    "            text += page.extractText()\n",
    "        text = unicode(text.encode('utf-8'), 'utf-8')\n",
    "        return text"
   ]
  },
  {
   "cell_type": "code",
   "execution_count": 4,
   "metadata": {
    "collapsed": true
   },
   "outputs": [],
   "source": [
    "def ConvertScanToText(filePath, language):\n",
    "    text = ''\n",
    "    pagesNumber = CountPagesNumber(filePath)\n",
    "\n",
    "    PyGs({}).make_img_from_pdf(filePath)\n",
    "\n",
    "    for ith in range(pagesNumber):\n",
    "        imagePath = filePath[:-4] + '_' + str(ith + 1) + '.JPG'\n",
    "        image = Image.open(imagePath, mode='r')\n",
    "        text += pytesseract.image_to_string(image, lang = language)\n",
    "        os.remove(imagePath)\n",
    "\n",
    "    return unicode(text.encode('utf-8'), 'utf-8')"
   ]
  },
  {
   "cell_type": "code",
   "execution_count": 5,
   "metadata": {
    "collapsed": true
   },
   "outputs": [],
   "source": [
    "def isScannedFile(filePath):\n",
    "    text = ConvertPdftoText(filePath)\n",
    "    pagesNumber = CountPagesNumber(filePath)\n",
    "    \n",
    "    if text in ['\\x0c' * pagesNumber, '']:\n",
    "        scannedFile = 1\n",
    "    else:\n",
    "        scannedFile = 0\n",
    "        \n",
    "    return scannedFile"
   ]
  },
  {
   "cell_type": "code",
   "execution_count": 6,
   "metadata": {
    "collapsed": true
   },
   "outputs": [],
   "source": [
    "def ConvertFileToText(filePath, language):\n",
    "    text = ConvertPdftoText(filePath)\n",
    "    pagesNumber = CountPagesNumber(filePath)\n",
    "    \n",
    "    if text in ['\\x0c' * pagesNumber, '']:\n",
    "        text = ConvertScanToText(path, language)\n",
    "    \n",
    "    return text"
   ]
  },
  {
   "cell_type": "code",
   "execution_count": 7,
   "metadata": {
    "collapsed": true
   },
   "outputs": [],
   "source": [
    "def FindCountryLanguage(country):\n",
    "    if (country == 'France'):\n",
    "        countryLanguage = 'fra'\n",
    "    elif (country == 'Spain'):\n",
    "        countryLanguage = 'spa'\n",
    "    elif (country == 'Italy'):\n",
    "        countryLanguage = 'ita'\n",
    "    elif (country == 'Germany'):\n",
    "        countryLanguage = 'deu'\n",
    "    elif (country == 'England'):\n",
    "        countryLanguage = 'eng'\n",
    "    #https://github.com/tesseract-ocr/tesseract/wiki/Data-Files\n",
    "    return countryLanguage"
   ]
  },
  {
   "cell_type": "code",
   "execution_count": 8,
   "metadata": {
    "collapsed": true
   },
   "outputs": [],
   "source": [
    "def LanguageName(language):\n",
    "    if (language == 'fr'):\n",
    "        language = 'fra'\n",
    "    elif (language == 'es'):\n",
    "        language = 'spa'\n",
    "    elif (language == 'it'):\n",
    "        language = 'ita'\n",
    "    elif (language == 'de'):\n",
    "        language = 'deu'\n",
    "    elif (language == 'en'):\n",
    "        language = 'eng'\n",
    "    #https://fr.wikipedia.org/wiki/Liste_des_codes_ISO_639-1\n",
    "    return language"
   ]
  },
  {
   "cell_type": "code",
   "execution_count": 9,
   "metadata": {
    "collapsed": false
   },
   "outputs": [],
   "source": [
    "def DetectLanguageForScan(filePath, countryLanguage, sample):\n",
    "    pdfReader = PyPDF2.PdfFileReader(filePath)\n",
    "    pdfWriter = PyPDF2.PdfFileWriter()\n",
    "    pagesNumber = CountPagesNumber(filePath)\n",
    "    lan1 = \"\"\n",
    "    temporaryFolderPath = \"Temporary Folder\"\n",
    "    if os.path.exists(temporaryFolderPath):\n",
    "        shutil.rmtree(temporaryFolderPath)\n",
    "    os.makedirs(temporaryFolderPath)\n",
    "    \n",
    "    while (len(lan1) < sample):\n",
    "        randomPage = random.sample(range(0, pagesNumber), 1)[0]\n",
    "        pdfWriter.addPage(pdfReader.getPage(randomPage))\n",
    "        temporaryFilePath = temporaryFolderPath +\"/out_\" + str(randomPage) + \".pdf\"\n",
    "        \n",
    "        stream = open(temporaryFilePath, \"wb\")\n",
    "        pdfWriter.write(stream)\n",
    "        stream.close()\n",
    "\n",
    "        lan1 = \"\" + pytesseract.image_to_string(pdf2image.convert_from_path(temporaryFilePath)[0], lang=countryLanguage)\n",
    "        \n",
    "        if (len(lan1) < sample):\n",
    "            os.remove(temporaryFilePath)\n",
    "    \n",
    "    lan2 = \"\" + pytesseract.image_to_string(pdf2image.convert_from_path(temporaryFilePath)[0],lang='eng')\n",
    "    shutil.rmtree(temporaryFolderPath)\n",
    "    out_lan1 = langdetect.detect_langs(lan1)[0]\n",
    "    out_lan2 = langdetect.detect_langs(lan2)[0]\n",
    "    lang=re.findall(r\"[a-zA-Z]+\",str(max(out_lan1,out_lan2)))[0]\n",
    "    \n",
    "    return lang"
   ]
  },
  {
   "cell_type": "code",
   "execution_count": 10,
   "metadata": {
    "collapsed": false
   },
   "outputs": [],
   "source": [
    "def DetectLanguage(filePath, countryLanguage):\n",
    "    if isScannedFile(filePath) == 1:\n",
    "        sample = 300\n",
    "        lang = DetectLanguageForScan(filePath, countryLanguage, sample)\n",
    "    else:\n",
    "        lang = langdetect.detect(ConvertPdftoText(filePath))\n",
    "    lang = LanguageName(str(lang)[:2])\n",
    "    return lang"
   ]
  },
  {
   "cell_type": "code",
   "execution_count": 11,
   "metadata": {
    "collapsed": true
   },
   "outputs": [],
   "source": [
    "def RetrieveFileInfosAfterRenamingWithPdfType(filePath, pdfTypes):\n",
    "    fileName = filePath[filePath.rfind('/')+1:-4]\n",
    "    for type in pdfTypes:\n",
    "        if (fileName.find(type) != -1):\n",
    "            pdfType = fileName[fileName.find(type):fileName.find(type)+len(type)]\n",
    "    \n",
    "    language = fileName[fileName.find(pdfType)-4:fileName.find(pdfType)-1]\n",
    "    year = fileName[fileName.find(language)-5:fileName.find(language)-1]\n",
    "    country = fileName.split(' ')[0]\n",
    "    companyName = fileName[fileName.find(country)+len(country)+1:fileName.find(year)-1]\n",
    "    return country, companyName, year, language, pdfType"
   ]
  },
  {
   "cell_type": "code",
   "execution_count": 1,
   "metadata": {
    "collapsed": false
   },
   "outputs": [],
   "source": [
    "def KeepOnlyPdfsNeeded(directoryPath, pdfTypes):\n",
    "    count = 0\n",
    "    ithFile = 0\n",
    "    for country in os.listdir(directoryPath):\n",
    "        if ((country[-4:] not in ['.pdf', '.csv']) & (country != 'Duplicates')):\n",
    "            for year in os.listdir(directoryPath + '/' + country):\n",
    "                for pdf in os.listdir(directoryPath + '/' + country + '/' + year):\n",
    "                    count += 1\n",
    "    sys.stdout.write(\"[\" + count * \" \" + \"] 0%\")           \n",
    "    \n",
    "    for country in os.listdir(directoryPath):\n",
    "        if ((country[-4:] not in ['.pdf', '.csv']) & (country != 'Duplicates')):\n",
    "            for year in os.listdir(directoryPath + '/' + country):\n",
    "                for pdf in os.listdir(directoryPath + '/' + country + '/' + year):\n",
    "                    fileToDelete = ''\n",
    "                    ithFile += 1\n",
    "                    filePath = directoryPath + '/' + country + '/' + year + '/' + pdf\n",
    "                \n",
    "                    for type in pdfTypes:\n",
    "                        if (pdf.find(type) == -1):\n",
    "                            fileToDelete += 'y'\n",
    "                        else:\n",
    "                            fileToDelete += 'n'\n",
    "                        \n",
    "                    if (fileToDelete == 'y' * len(pdfTypes)):\n",
    "                        os.remove(filePath)\n",
    "                \n",
    "                    percentage = int(ithFile * 100 / count)\n",
    "                    spacesNumber = count - ithFile\n",
    "                    sys.stdout.write(\"\\r\")\n",
    "                    sys.stdout.write(\"[\" + ithFile * \"#\" + spacesNumber * \" \" + \"] \" + str(percentage) + \"%\")\n",
    "                    \n",
    "    print('\\nKeep only PDFs needed: OK\\n')"
   ]
  },
  {
   "cell_type": "code",
   "execution_count": 2,
   "metadata": {
    "collapsed": false
   },
   "outputs": [],
   "source": [
    "def RenamePdfs(directoryPath, pdfTypes):\n",
    "    count = 0\n",
    "    ithFile = 0\n",
    "    for country in os.listdir(directoryPath):\n",
    "        if ((country[-4:] not in ['.pdf', '.csv']) & (country != 'Duplicates')):\n",
    "            countryLanguage = FindCountryLanguage(country)\n",
    "            for year in os.listdir(directoryPath + '/' + country):\n",
    "                for pdf in os.listdir(directoryPath + '/' + country + '/' + year):\n",
    "                    count += 1\n",
    "    sys.stdout.write(\"[\" + count * \" \" + \"] 0%\")\n",
    "    \n",
    "    duplicates = []\n",
    "    \n",
    "    if not (os.path.exists(directoryPath + '/Duplicates')):\n",
    "        os.makedirs(directoryPath +  '/Duplicates')\n",
    "    \n",
    "    for country in os.listdir(directoryPath):\n",
    "        if ((country[-4:] not in ['.pdf', '.csv']) & (country != 'Duplicates')):\n",
    "            countryLanguage = FindCountryLanguage(country)\n",
    "            for year in os.listdir(directoryPath + '/' + country):\n",
    "                for pdf in os.listdir(directoryPath + '/' + country + '/' + year):\n",
    "                    ithFile += 1\n",
    "                    isDuplicate = 0\n",
    "                    possibleOtherPdfNames = []\n",
    "                    filePath = directoryPath + '/' + country + '/' + year + '/' + pdf\n",
    "                    language = DetectLanguage(filePath, countryLanguage)\n",
    "                    pdfType = \"\"\n",
    "                    for type in pdfTypes:\n",
    "                        if (pdf.find(type) != -1):\n",
    "                            pdfType = type\n",
    "                    companyName = pdf[:pdf.rfind(((pdf[:pdf.rfind(pdfType)-1]).split())[-1])-1]\n",
    "                    pdfName = country + ' ' + companyName + ' ' + str(year) + ' ' + language + ' ' + pdfType + '.pdf'\n",
    "                    \n",
    "                    # Find all possible other pdf names\n",
    "                    for type in pdfTypes:\n",
    "                        if (pdf.find(type) != -1):\n",
    "                            if (countryLanguage != 'eng'):\n",
    "                                if (language != countryLanguage) :\n",
    "                                    possibleOtherPdfNames.append(country + ' ' + companyName + ' ' + str(year) + ' ' \n",
    "                                                                 + countryLanguage + ' ' + type + '.pdf')\n",
    "                                else:\n",
    "                                    possibleOtherPdfNames.append(country + ' ' + companyName + ' ' + str(year) + ' ' \n",
    "                                                                 + 'eng' + ' ' + type + '.pdf')\n",
    "                            \n",
    "                        else:\n",
    "                            for language in [countryLanguage, 'eng']:\n",
    "                                possibleOtherPdfNames.append(country + ' ' + companyName + ' ' + str(year) + ' ' \n",
    "                                                             + language + ' ' + type + '.pdf')\n",
    "            \n",
    "                    # Si le fichier existe déjà dans le dossier cible\n",
    "                    if os.path.exists(directoryPath + '/' + pdfName):\n",
    "                        duplicates.append(pdfName) # on garde dans une liste le 1er doublon pour le supprimer plus tard et\n",
    "                                                   # continuer de le comparer avec les autres documents\n",
    "                        isDuplicate = 1\n",
    "                        pdfName = pdfName[:-4] + ' 2.pdf'\n",
    "                        number = 3\n",
    "                        while (os.path.exists(directoryPath + '/Duplicates/' + pdfName)):\n",
    "                            pdfName = pdfName[:-6] + ' ' + str(number) + '.pdf'\n",
    "                            number += 1 \n",
    "                    else:\n",
    "                        for possiblePdfName in possibleOtherPdfNames:\n",
    "                            if (os.path.exists(directoryPath + '/' + possiblePdfName)):\n",
    "                                isDuplicate = 1\n",
    "                                duplicates.append(possiblePdfName) # Même raison\n",
    "                                if (os.path.exists(directoryPath + '/Duplicates/' + pdfName)):\n",
    "                                    pdfName = pdfName[:-4] + ' 2.pdf'\n",
    "                                    number = 3\n",
    "                                    while (os.path.exists(directoryPath + '/Duplicates/' + pdfName)):\n",
    "                                        pdfName = pdfName[:-6] + ' ' + str(number) + '.pdf'\n",
    "                                        number += 1 \n",
    "                \n",
    "                    if (isDuplicate == 0):\n",
    "                        os.rename(filePath, directoryPath + '/' + pdfName)\n",
    "                    else:\n",
    "                        os.rename(filePath, directoryPath + '/Duplicates/' + pdfName)\n",
    "                    \n",
    "                    percentage = int(ithFile * 100 / (count+1))\n",
    "                    spacesNumber = (count+1) - ithFile\n",
    "                    sys.stdout.write(\"\\r\")\n",
    "                    sys.stdout.write(\"[\" + ithFile * \"#\" + spacesNumber * \" \" + \"] \" + str(percentage) + \"%\")\n",
    "                    \n",
    "    for pdfName in set(duplicates):\n",
    "        if (os.path.exists(directoryPath + '/' + pdfName)):\n",
    "            os.rename(directoryPath + '/' + pdfName, directoryPath + '/Duplicates/' + pdfName)\n",
    "        \n",
    "    for pdf in os.listdir(directoryPath):\n",
    "        if (pdf[-4:] == '.pdf'):\n",
    "            for type in pdfTypes:\n",
    "                if (pdf.find(type) != -1):\n",
    "                    newPdfName = pdf[:pdf.find(type)-1] + '.pdf'\n",
    "                    os.rename(directoryPath + '/' + pdf, directoryPath + '/' + newPdfName)\n",
    "    \n",
    "    for country in os.listdir(directoryPath):\n",
    "        if ((country[-4:] not in ['.pdf', '.csv']) & (country != 'Duplicates')):\n",
    "            countryLanguage = FindCountryLanguage(country)\n",
    "            for year in os.listdir(directoryPath + '/' + country):\n",
    "                if (len(os.listdir(directoryPath + '/' + country + '/' + year)) == 0):\n",
    "                    shutil.rmtree(directoryPath + '/' + country + '/' + year)\n",
    "            if (len(os.listdir(directoryPath + '/' + country)) == 0):\n",
    "                shutil.rmtree(directoryPath + '/' + country)\n",
    "                \n",
    "            \n",
    "    sys.stdout.write(\"\\r\")\n",
    "    sys.stdout.write(\"[\" + (count+1) * \"#\" + \"] \" + \"100%\")\n",
    "        \n",
    "    print('\\nRename all PDFs: OK\\n')"
   ]
  },
  {
   "cell_type": "code",
   "execution_count": 3,
   "metadata": {
    "collapsed": true
   },
   "outputs": [],
   "source": [
    "def FindPdfsToDeleteOrMerge(duplicatesDirectoryPath, pdfTypes):\n",
    "    pdfNumber = len(os.listdir(duplicatesDirectoryPath))\n",
    "    pdfsToDelete = []\n",
    "    pdfsPairsToMerge = []\n",
    "\n",
    "    for element1 in os.listdir(duplicatesDirectoryPath):\n",
    "        element1Infos = RetrieveFileInfosAfterRenamingWithPdfType(duplicatesDirectoryPath + '/' + element1, pdfTypes)\n",
    "        shortName1 = element1Infos[0] + ' ' + element1Infos[1] + ' ' + element1Infos[2]\n",
    "        for element2 in os.listdir(duplicatesDirectoryPath):\n",
    "            if (os.listdir(duplicatesDirectoryPath).index(element2) >  os.listdir(duplicatesDirectoryPath).index(element1)):\n",
    "                element2Infos = RetrieveFileInfosAfterRenamingWithPdfType(duplicatesDirectoryPath + '/' + element2, pdfTypes)\n",
    "                shortName2 = element2Infos[0] + ' ' + element2Infos[1] + ' ' + element2Infos[2]\n",
    "                if (shortName1 == shortName2):\n",
    "                    if ((element1Infos[4] != element2Infos[4]) \n",
    "                        & (element1Infos[4] in pdfTypes) \n",
    "                        & (element2Infos[4] in pdfTypes)): \n",
    "                        # S'ils n'ont pas le même type de pdf, on garde ARS-None (= on supprime FullYear)\n",
    "                        if (pdfTypes.index(element1Infos[4]) < pdfTypes.index(element2Infos[4])):\n",
    "                            pdfsToDelete.append(element2)\n",
    "                        else:\n",
    "                            pdfsToDelete.append(element1)               \n",
    "                    else:                       # S'ils ont le même type et une langue différente, on garde le pdf en anglais\n",
    "                        if (element1Infos[3] != element2Infos[3]):\n",
    "                            if ((element1Infos[3] == 'eng') | (element2Infos[3] == 'eng')):\n",
    "                                if (element1Infos[3] != 'eng'):\n",
    "                                    pdfsToDelete.append(element1)\n",
    "                                else:\n",
    "                                    pdfsToDelete.append(element2)\n",
    "                            else:\n",
    "                                if ((element1Infos[3] == element1CountryLanguage) \n",
    "                                    | (element2Infos[3] == element2CountryLanguage)):\n",
    "                                    if (element1Infos[3] != element1CountryLanguage):\n",
    "                                        pdfsToDelete.append(element1)\n",
    "                                    else:\n",
    "                                        pdfsToDelete.append(element2)\n",
    "                                else:\n",
    "                                    # Aucun des pdfs est en anglais ou dans la langue du pays => on supprime les 2?\n",
    "                                    pdfsToDelete.append(element1)\n",
    "                                    pdfsToDelete.append(element2)\n",
    "        \n",
    "    for element1 in os.listdir(duplicatesDirectoryPath):\n",
    "        element1Infos = RetrieveFileInfosAfterRenamingWithPdfType(duplicatesDirectoryPath + '/' + element1, pdfTypes)\n",
    "        shortName1 = element1Infos[0] + ' ' + element1Infos[1] + ' ' + element1Infos[2]\n",
    "        for element2 in os.listdir(duplicatesDirectoryPath):\n",
    "            if ((element1 not in pdfsToDelete) \n",
    "                & (element2 not in pdfsToDelete) \n",
    "                & (os.listdir(duplicatesDirectoryPath).index(element2) >  os.listdir(duplicatesDirectoryPath).index(element1))):\n",
    "                element2Infos = RetrieveFileInfosAfterRenamingWithPdfType(duplicatesDirectoryPath + '/' + element2, pdfTypes)\n",
    "                shortName2 = element2Infos[0] + ' ' + element2Infos[1] + ' ' + element2Infos[2]\n",
    "                if (shortName1 == shortName2):\n",
    "                    element1Text = re.sub(r\" {2,}\", \" \", re.sub(r\"[^A-Za-z ]+\", \" \", \n",
    "                                                                ConvertFileToText(duplicatesDirectoryPath + '/' + element1, element1Infos[3])))\n",
    "                    element2Text = re.sub(r\" {2,}\", \" \", re.sub(r\"[^A-Za-z ]+\", \" \", \n",
    "                                                                ConvertFileToText(duplicatesDirectoryPath + '/' + element2, element2Infos[3])))\n",
    "                    if (element1Text == element2Text):\n",
    "                        if (len(element1) != min(len(element1), len(element2))):\n",
    "                            pdfsToDelete.append(element1)\n",
    "                        else:\n",
    "                            pdfsToDelete.append(element2)\n",
    "                    else:\n",
    "                        if (len(element1Text) > len(element2Text)):\n",
    "                            if (element1Text.find(element2Text) != -1): #element2Text est dans element1Text\n",
    "                                pdfsToDelete.append(element2)\n",
    "                            else: #pdfs différents => on merge\n",
    "                                pdfsPairsToMerge.append([element1, element2])         \n",
    "                        else:\n",
    "                            if (element2Text.find(element1Text) != -1):\n",
    "                                pdfsToDelete.append(element1)\n",
    "                            else:\n",
    "                                pdfsPairsToMerge.append([element1, element2])  \n",
    "                                  \n",
    "    pdfsToDelete = set(pdfsToDelete)\n",
    "    \n",
    "    return pdfsToDelete, pdfsPairsToMerge        "
   ]
  },
  {
   "cell_type": "code",
   "execution_count": 4,
   "metadata": {
    "collapsed": true
   },
   "outputs": [],
   "source": [
    "def DeleteDuplicates(duplicatesDirectoryPath, pdfTypes):\n",
    "    pdfsNumber = len(os.listdir(duplicatesDirectoryPath))\n",
    "    directoryPath = duplicatesDirectoryPath[0:duplicatesDirectoryPath.find('/Duplicates')]\n",
    "    pdfsWhichNeedAction = FindPdfsToDeleteOrMerge(duplicatesDirectoryPath, pdfTypes)\n",
    "    pdfsToDelete = pdfsWhichNeedAction[0]\n",
    "    pdfsPairsToMerge = pdfsWhichNeedAction[1]\n",
    "    pdfsToMerge = []\n",
    "    \n",
    "    # PDFs to merge later\n",
    "    for pdf in pdfsPairsToMerge:\n",
    "        pdfsToMerge.append(pdf[0])\n",
    "        pdfsToMerge.append(pdf[1])\n",
    "    \n",
    "    pdfsToMerge = set(pdfsToMerge)\n",
    "    \n",
    "    # PDFs to keep in non-duplicates\n",
    "    for pdf in os.listdir(duplicatesDirectoryPath):\n",
    "        if ((pdf not in pdfsToDelete) & (pdf not in pdfsToMerge)):\n",
    "            for type in pdfTypes:\n",
    "                if (pdf.find(type) != -1):\n",
    "                    newPdfName = pdf[:pdf.find(type)-1] + '.pdf'\n",
    "            os.rename(duplicatesDirectoryPath + '/' + pdf, directoryPath + '/' + newPdfName)\n",
    "    \n",
    "    # PDFs to delete\n",
    "    for pdf in pdfsToDelete:\n",
    "        os.remove(duplicatesDirectoryPath + '/' + pdf)\n",
    "        \n",
    "    sys.stdout.write(\"[\" + pdfsNumber * \"#\" + \"] 100%\")\n",
    "    print('\\nDelete duplicates: OK')"
   ]
  },
  {
   "cell_type": "code",
   "execution_count": 5,
   "metadata": {
    "collapsed": false
   },
   "outputs": [],
   "source": [
    "def CleanPdfs(directoryPath, pdfTypes):\n",
    "    duplicatesDirectoryPath = directoryPath + '/Duplicates'\n",
    "    KeepOnlyPdfsNeeded(directoryPath, pdfTypes)\n",
    "    RenamePdfs(directoryPath, pdfTypes)\n",
    "    DeleteDuplicates(duplicatesDirectoryPath, pdfTypes)"
   ]
  },
  {
   "cell_type": "markdown",
   "metadata": {},
   "source": [
    "# Main\n",
    "### KeepOnlyPdfsNeeded\n",
    "Delete all pdfs which are not : ARS-None, FullYear, ARS or AR S \n",
    "### RenamePdfs\n",
    "Rename all PDFs as : country + company name + year + language and Stock all duplicates in a special Duplicates folder (those which have a similar country, company and year)\n",
    "### DeleteDuplicates\n",
    "Deal with duplicates, keep in priority ARS-None then FullYear then ARS then AR S and also keep in priority English language and If after deleting useless pdfs:\n",
    "- there are several different pdfs for a company and a year: keep them in the Duplicates folder to merge them later \n",
    "- there is a unique pdf for a country, company and year: put it in the main folder (the one without duplicates)\n"
   ]
  },
  {
   "cell_type": "code",
   "execution_count": 17,
   "metadata": {
    "collapsed": false
   },
   "outputs": [
    {
     "name": "stdout",
     "output_type": "stream",
     "text": [
      "[############################################################################################################################################################################################################################################################################] 100%\n",
      "Keep only PDFs needed: OK\n",
      "57 out of 268 files were deleted.\n",
      "[####################################################################################################################################################################################################################] 100%\n",
      "Rename all PDFs: OK\n",
      "[############################################################################################] 100%\n",
      "Delete duplicates: OK\n"
     ]
    }
   ],
   "source": [
    "CleanPdfs(directoryPath = \"Annual reports\", \n",
    "                   pdfTypes = ['ARS-None', 'FullYear', 'ARS', 'AR S'])"
   ]
  },
  {
   "cell_type": "code",
   "execution_count": null,
   "metadata": {
    "collapsed": true
   },
   "outputs": [],
   "source": []
  }
 ],
 "metadata": {
  "anaconda-cloud": {},
  "kernelspec": {
   "display_name": "Python [conda env:py27]",
   "language": "python",
   "name": "conda-env-py27-py"
  },
  "language_info": {
   "codemirror_mode": {
    "name": "ipython",
    "version": 2
   },
   "file_extension": ".py",
   "mimetype": "text/x-python",
   "name": "python",
   "nbconvert_exporter": "python",
   "pygments_lexer": "ipython2",
   "version": "2.7.14"
  }
 },
 "nbformat": 4,
 "nbformat_minor": 1
}
